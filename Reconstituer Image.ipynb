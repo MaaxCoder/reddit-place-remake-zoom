{
 "cells": [
  {
   "cell_type": "code",
   "execution_count": 1,
   "id": "8175bf87-8a72-4d4f-a94d-8f1724975300",
   "metadata": {},
   "outputs": [],
   "source": [
    "import pandas as pd"
   ]
  },
  {
   "cell_type": "markdown",
   "id": "bb7599c8-aed2-4152-8dfc-00123d9aa95f",
   "metadata": {
    "tags": []
   },
   "source": [
    "# Récuprér les derniers pixels posées\n",
    "On commence par récupérer tous les derniers changement de pixels."
   ]
  },
  {
   "cell_type": "markdown",
   "id": "ecaa112a-a21d-452f-81ca-beb0c7d26dc4",
   "metadata": {
    "tags": []
   },
   "source": [
    "## On importe le csv"
   ]
  },
  {
   "cell_type": "code",
   "execution_count": 2,
   "id": "f740400f-16bd-424f-81ad-6498e52d7fc1",
   "metadata": {},
   "outputs": [
    {
     "ename": "ParserError",
     "evalue": "Error tokenizing data. C error: Calling read(nbytes) on source failed. Try engine='python'.",
     "output_type": "error",
     "traceback": [
      "\u001b[1;31m---------------------------------------------------------------------------\u001b[0m",
      "\u001b[1;31mParserError\u001b[0m                               Traceback (most recent call last)",
      "Cell \u001b[1;32mIn[2], line 1\u001b[0m\n\u001b[1;32m----> 1\u001b[0m df \u001b[38;5;241m=\u001b[39m \u001b[43mpd\u001b[49m\u001b[38;5;241;43m.\u001b[39;49m\u001b[43mread_csv\u001b[49m\u001b[43m(\u001b[49m\u001b[38;5;124;43m\"\u001b[39;49m\u001b[38;5;124;43mcsv/2022_place_canvas_history.csv\u001b[39;49m\u001b[38;5;124;43m\"\u001b[39;49m\u001b[43m,\u001b[49m\u001b[43m \u001b[49m\u001b[43musecols\u001b[49m\u001b[43m \u001b[49m\u001b[38;5;241;43m=\u001b[39;49m\u001b[43m \u001b[49m\u001b[43m[\u001b[49m\u001b[38;5;124;43m\"\u001b[39;49m\u001b[38;5;124;43mpixel_color\u001b[39;49m\u001b[38;5;124;43m\"\u001b[39;49m\u001b[43m,\u001b[49m\u001b[43m \u001b[49m\u001b[38;5;124;43m\"\u001b[39;49m\u001b[38;5;124;43mcoordinate\u001b[39;49m\u001b[38;5;124;43m\"\u001b[39;49m\u001b[43m,\u001b[49m\u001b[43m \u001b[49m\u001b[38;5;124;43m\"\u001b[39;49m\u001b[38;5;124;43mtimestamp\u001b[39;49m\u001b[38;5;124;43m\"\u001b[39;49m\u001b[43m]\u001b[49m\u001b[43m)\u001b[49m\n",
      "File \u001b[1;32mc:\\Users\\Maxime\\AppData\\Local\\Programs\\Python\\Python39\\lib\\site-packages\\pandas\\io\\parsers\\readers.py:912\u001b[0m, in \u001b[0;36mread_csv\u001b[1;34m(filepath_or_buffer, sep, delimiter, header, names, index_col, usecols, dtype, engine, converters, true_values, false_values, skipinitialspace, skiprows, skipfooter, nrows, na_values, keep_default_na, na_filter, verbose, skip_blank_lines, parse_dates, infer_datetime_format, keep_date_col, date_parser, date_format, dayfirst, cache_dates, iterator, chunksize, compression, thousands, decimal, lineterminator, quotechar, quoting, doublequote, escapechar, comment, encoding, encoding_errors, dialect, on_bad_lines, delim_whitespace, low_memory, memory_map, float_precision, storage_options, dtype_backend)\u001b[0m\n\u001b[0;32m    899\u001b[0m kwds_defaults \u001b[38;5;241m=\u001b[39m _refine_defaults_read(\n\u001b[0;32m    900\u001b[0m     dialect,\n\u001b[0;32m    901\u001b[0m     delimiter,\n\u001b[1;32m   (...)\u001b[0m\n\u001b[0;32m    908\u001b[0m     dtype_backend\u001b[38;5;241m=\u001b[39mdtype_backend,\n\u001b[0;32m    909\u001b[0m )\n\u001b[0;32m    910\u001b[0m kwds\u001b[38;5;241m.\u001b[39mupdate(kwds_defaults)\n\u001b[1;32m--> 912\u001b[0m \u001b[38;5;28;01mreturn\u001b[39;00m \u001b[43m_read\u001b[49m\u001b[43m(\u001b[49m\u001b[43mfilepath_or_buffer\u001b[49m\u001b[43m,\u001b[49m\u001b[43m \u001b[49m\u001b[43mkwds\u001b[49m\u001b[43m)\u001b[49m\n",
      "File \u001b[1;32mc:\\Users\\Maxime\\AppData\\Local\\Programs\\Python\\Python39\\lib\\site-packages\\pandas\\io\\parsers\\readers.py:583\u001b[0m, in \u001b[0;36m_read\u001b[1;34m(filepath_or_buffer, kwds)\u001b[0m\n\u001b[0;32m    580\u001b[0m     \u001b[38;5;28;01mreturn\u001b[39;00m parser\n\u001b[0;32m    582\u001b[0m \u001b[38;5;28;01mwith\u001b[39;00m parser:\n\u001b[1;32m--> 583\u001b[0m     \u001b[38;5;28;01mreturn\u001b[39;00m \u001b[43mparser\u001b[49m\u001b[38;5;241;43m.\u001b[39;49m\u001b[43mread\u001b[49m\u001b[43m(\u001b[49m\u001b[43mnrows\u001b[49m\u001b[43m)\u001b[49m\n",
      "File \u001b[1;32mc:\\Users\\Maxime\\AppData\\Local\\Programs\\Python\\Python39\\lib\\site-packages\\pandas\\io\\parsers\\readers.py:1704\u001b[0m, in \u001b[0;36mTextFileReader.read\u001b[1;34m(self, nrows)\u001b[0m\n\u001b[0;32m   1697\u001b[0m nrows \u001b[38;5;241m=\u001b[39m validate_integer(\u001b[38;5;124m\"\u001b[39m\u001b[38;5;124mnrows\u001b[39m\u001b[38;5;124m\"\u001b[39m, nrows)\n\u001b[0;32m   1698\u001b[0m \u001b[38;5;28;01mtry\u001b[39;00m:\n\u001b[0;32m   1699\u001b[0m     \u001b[38;5;66;03m# error: \"ParserBase\" has no attribute \"read\"\u001b[39;00m\n\u001b[0;32m   1700\u001b[0m     (\n\u001b[0;32m   1701\u001b[0m         index,\n\u001b[0;32m   1702\u001b[0m         columns,\n\u001b[0;32m   1703\u001b[0m         col_dict,\n\u001b[1;32m-> 1704\u001b[0m     ) \u001b[38;5;241m=\u001b[39m \u001b[38;5;28;43mself\u001b[39;49m\u001b[38;5;241;43m.\u001b[39;49m\u001b[43m_engine\u001b[49m\u001b[38;5;241;43m.\u001b[39;49m\u001b[43mread\u001b[49m\u001b[43m(\u001b[49m\u001b[43m  \u001b[49m\u001b[38;5;66;43;03m# type: ignore[attr-defined]\u001b[39;49;00m\n\u001b[0;32m   1705\u001b[0m \u001b[43m        \u001b[49m\u001b[43mnrows\u001b[49m\n\u001b[0;32m   1706\u001b[0m \u001b[43m    \u001b[49m\u001b[43m)\u001b[49m\n\u001b[0;32m   1707\u001b[0m \u001b[38;5;28;01mexcept\u001b[39;00m \u001b[38;5;167;01mException\u001b[39;00m:\n\u001b[0;32m   1708\u001b[0m     \u001b[38;5;28mself\u001b[39m\u001b[38;5;241m.\u001b[39mclose()\n",
      "File \u001b[1;32mc:\\Users\\Maxime\\AppData\\Local\\Programs\\Python\\Python39\\lib\\site-packages\\pandas\\io\\parsers\\c_parser_wrapper.py:234\u001b[0m, in \u001b[0;36mCParserWrapper.read\u001b[1;34m(self, nrows)\u001b[0m\n\u001b[0;32m    232\u001b[0m \u001b[38;5;28;01mtry\u001b[39;00m:\n\u001b[0;32m    233\u001b[0m     \u001b[38;5;28;01mif\u001b[39;00m \u001b[38;5;28mself\u001b[39m\u001b[38;5;241m.\u001b[39mlow_memory:\n\u001b[1;32m--> 234\u001b[0m         chunks \u001b[38;5;241m=\u001b[39m \u001b[38;5;28;43mself\u001b[39;49m\u001b[38;5;241;43m.\u001b[39;49m\u001b[43m_reader\u001b[49m\u001b[38;5;241;43m.\u001b[39;49m\u001b[43mread_low_memory\u001b[49m\u001b[43m(\u001b[49m\u001b[43mnrows\u001b[49m\u001b[43m)\u001b[49m\n\u001b[0;32m    235\u001b[0m         \u001b[38;5;66;03m# destructive to chunks\u001b[39;00m\n\u001b[0;32m    236\u001b[0m         data \u001b[38;5;241m=\u001b[39m _concatenate_chunks(chunks)\n",
      "File \u001b[1;32mc:\\Users\\Maxime\\AppData\\Local\\Programs\\Python\\Python39\\lib\\site-packages\\pandas\\_libs\\parsers.pyx:812\u001b[0m, in \u001b[0;36mpandas._libs.parsers.TextReader.read_low_memory\u001b[1;34m()\u001b[0m\n",
      "File \u001b[1;32mc:\\Users\\Maxime\\AppData\\Local\\Programs\\Python\\Python39\\lib\\site-packages\\pandas\\_libs\\parsers.pyx:873\u001b[0m, in \u001b[0;36mpandas._libs.parsers.TextReader._read_rows\u001b[1;34m()\u001b[0m\n",
      "File \u001b[1;32mc:\\Users\\Maxime\\AppData\\Local\\Programs\\Python\\Python39\\lib\\site-packages\\pandas\\_libs\\parsers.pyx:848\u001b[0m, in \u001b[0;36mpandas._libs.parsers.TextReader._tokenize_rows\u001b[1;34m()\u001b[0m\n",
      "File \u001b[1;32mc:\\Users\\Maxime\\AppData\\Local\\Programs\\Python\\Python39\\lib\\site-packages\\pandas\\_libs\\parsers.pyx:859\u001b[0m, in \u001b[0;36mpandas._libs.parsers.TextReader._check_tokenize_status\u001b[1;34m()\u001b[0m\n",
      "File \u001b[1;32mc:\\Users\\Maxime\\AppData\\Local\\Programs\\Python\\Python39\\lib\\site-packages\\pandas\\_libs\\parsers.pyx:2025\u001b[0m, in \u001b[0;36mpandas._libs.parsers.raise_parser_error\u001b[1;34m()\u001b[0m\n",
      "\u001b[1;31mParserError\u001b[0m: Error tokenizing data. C error: Calling read(nbytes) on source failed. Try engine='python'."
     ]
    }
   ],
   "source": [
    "df = pd.read_csv(\"csv/2022_place_canvas_history.csv\", usecols = [\"pixel_color\", \"coordinate\", \"timestamp\"])"
   ]
  },
  {
   "cell_type": "markdown",
   "id": "d79b2192-0331-46aa-85e1-3d85b4128ec6",
   "metadata": {
    "tags": []
   },
   "source": [
    "## Premier tri des données\n",
    "Il faut trier par timestamp et supprimer tout les blancs a la fin"
   ]
  },
  {
   "cell_type": "code",
   "execution_count": 3,
   "id": "295a1035-27ce-419f-a1db-97ac1fe13613",
   "metadata": {},
   "outputs": [],
   "source": [
    "df = df.sort_values(by=\"timestamp\")"
   ]
  },
  {
   "cell_type": "code",
   "execution_count": 4,
   "id": "78baa05f-34cf-4aae-ab5a-7c6d3b036019",
   "metadata": {},
   "outputs": [],
   "source": [
    "df.reset_index(inplace=True, drop=True)"
   ]
  },
  {
   "cell_type": "code",
   "execution_count": 5,
   "id": "d0df1499-e813-403a-9238-995d4ecb3a4b",
   "metadata": {},
   "outputs": [],
   "source": [
    "df_white_list = df[df.pixel_color == \"#FFFFFF\"]"
   ]
  },
  {
   "cell_type": "code",
   "execution_count": 6,
   "id": "3d0cfd23-718d-4e22-a2f1-616a2e8dad6b",
   "metadata": {},
   "outputs": [],
   "source": [
    "df_white_list_index = df_white_list.index.tolist()"
   ]
  },
  {
   "cell_type": "code",
   "execution_count": 7,
   "id": "1f854428-e116-4ad1-8138-71f155460862",
   "metadata": {},
   "outputs": [],
   "source": [
    "ancien = df_white_list_index[len(df_white_list_index) - 1]\n",
    "for n in list(reversed(df_white_list_index)):\n",
    "    if n == ancien:\n",
    "        ancien = n - 1\n",
    "    else:\n",
    "        limit_delete = ancien + 1\n",
    "        break"
   ]
  },
  {
   "cell_type": "code",
   "execution_count": 8,
   "id": "c1e6761e-bfea-4963-a138-e37bb12cd3f3",
   "metadata": {},
   "outputs": [],
   "source": [
    "df.drop([i for i in range(limit_delete, df.shape[0])], inplace=True)"
   ]
  },
  {
   "cell_type": "markdown",
   "id": "2f44cef5-12ea-4796-9eef-6ff88de17ed6",
   "metadata": {
    "tags": []
   },
   "source": [
    "## On réucpère tout les denriers changements et on exporte"
   ]
  },
  {
   "cell_type": "code",
   "execution_count": 9,
   "id": "2753a010-6d4c-4802-a918-95e0f7397d93",
   "metadata": {
    "tags": []
   },
   "outputs": [],
   "source": [
    "last_pixels = df.groupby(\"coordinate\").last().pixel_color"
   ]
  },
  {
   "cell_type": "code",
   "execution_count": 10,
   "id": "60c0d045-ab89-4694-9676-90f951091cdf",
   "metadata": {},
   "outputs": [],
   "source": [
    "last_pixels.to_csv(\"top_position.csv\")"
   ]
  },
  {
   "cell_type": "markdown",
   "id": "2e316dde-085b-40b8-a2b7-f8564cf50b09",
   "metadata": {
    "tags": []
   },
   "source": [
    "# On trie les données"
   ]
  },
  {
   "cell_type": "code",
   "execution_count": 3,
   "id": "dbaeabdf-7b26-43aa-b314-4648c796c241",
   "metadata": {},
   "outputs": [],
   "source": [
    "df2 = pd.read_csv(\"csv/top_position.csv\")"
   ]
  },
  {
   "cell_type": "markdown",
   "id": "d105ff7a-9cc8-4609-a4d6-533a067a7cc6",
   "metadata": {
    "tags": []
   },
   "source": [
    "## On trie les données pour qu'elles soient utilisable"
   ]
  },
  {
   "cell_type": "code",
   "execution_count": 4,
   "id": "21b7ceef-f15f-4cfe-89fa-5e425789ac1f",
   "metadata": {},
   "outputs": [],
   "source": [
    "df2.coordinate = df2.coordinate.str.split(pat=\",\")"
   ]
  },
  {
   "cell_type": "code",
   "execution_count": 5,
   "id": "b9809cce-53c4-4ddb-817d-88f4e6e19f43",
   "metadata": {},
   "outputs": [],
   "source": [
    "df2[\"x\"] = df2.coordinate.str[0]\n",
    "df2[\"y\"] = df2.coordinate.str[1]"
   ]
  },
  {
   "cell_type": "code",
   "execution_count": 6,
   "id": "bed4206f-3b7c-442b-a454-f481daa03e4f",
   "metadata": {},
   "outputs": [],
   "source": [
    "df2[\"x\"] = df2[\"x\"].astype(int)\n",
    "df2[\"y\"] = df2[\"y\"].astype(int)"
   ]
  },
  {
   "cell_type": "markdown",
   "id": "d6976043-824a-4f72-bef7-9aef6073262e",
   "metadata": {
    "tags": []
   },
   "source": [
    "## On enlève les colonnes ou les données sont inutilisables / ne servent ) rien\n",
    "En effet, certaines colonnes sont incompletes, pas logique ce qui fait que je suis obligé de les enlever"
   ]
  },
  {
   "cell_type": "code",
   "execution_count": 7,
   "id": "38232f90-e818-4ba9-8fea-c9ccc06f9e63",
   "metadata": {},
   "outputs": [],
   "source": [
    "df2.drop(df2[df2.coordinate.str.len() > 2].index, inplace=True)"
   ]
  },
  {
   "cell_type": "code",
   "execution_count": 8,
   "id": "1e26c853-9fe5-4c8c-ac0c-60ee2998e431",
   "metadata": {},
   "outputs": [],
   "source": [
    "df2.drop(\"coordinate\", axis=1, inplace=True)"
   ]
  },
  {
   "cell_type": "markdown",
   "id": "f7b4fa7f-9014-481f-8427-5417b46b7c38",
   "metadata": {
    "tags": []
   },
   "source": [
    "## On rajoute ensuite les pixels manquant\n",
    "En effet, certains pixels manquent pour créer une matrice.\n",
    "Ce tableau représente les différents **CHANGEMENT** de pixels. Certains pixels n'ont subi aucun changement, donc il faut les rajouter."
   ]
  },
  {
   "cell_type": "code",
   "execution_count": 9,
   "id": "f3499488-79c8-4ce2-aecb-4029bf4e949a",
   "metadata": {},
   "outputs": [],
   "source": [
    "count = df2.groupby(\"x\").y.count()\n",
    "x_missing = count[count < 2000]"
   ]
  },
  {
   "cell_type": "code",
   "execution_count": 10,
   "id": "5960c1b0-7b7e-49b5-9f9e-09534b17bc49",
   "metadata": {},
   "outputs": [],
   "source": [
    "index_x = x_missing.index.tolist()"
   ]
  },
  {
   "cell_type": "code",
   "execution_count": 11,
   "id": "34af4a00-56d5-44cd-9df9-f6f3ba62c10e",
   "metadata": {},
   "outputs": [],
   "source": [
    "good = [i for i in range(0, 2000)]"
   ]
  },
  {
   "cell_type": "code",
   "execution_count": 12,
   "id": "c343fc1d-4083-4376-959b-59ae9bbeed49",
   "metadata": {},
   "outputs": [],
   "source": [
    "list_append = []\n",
    "for index in index_x:\n",
    "    list_y = df2[df2.x == index].y.tolist()\n",
    "    y_missing_list = set(good).difference(set(list_y))\n",
    "    for y_missing in y_missing_list:\n",
    "        list_append.append([\"#FFFFFF\", index, y_missing])"
   ]
  },
  {
   "cell_type": "code",
   "execution_count": 13,
   "id": "13d7dece-7d00-4c33-b17b-aaf429ab70eb",
   "metadata": {},
   "outputs": [],
   "source": [
    "df_append = pd.DataFrame(list_append, columns=[\"pixel_color\", \"x\",\"y\"])"
   ]
  },
  {
   "cell_type": "code",
   "execution_count": 14,
   "id": "a4a347fa-ccea-4012-8c1e-5e408a34ff7c",
   "metadata": {},
   "outputs": [],
   "source": [
    "df3 = pd.concat([df2, df_append], ignore_index=True)"
   ]
  },
  {
   "cell_type": "code",
   "execution_count": 15,
   "id": "2fbbf2a2-f21b-4376-a9fe-439e1ee527fc",
   "metadata": {},
   "outputs": [],
   "source": [
    "df3.sort_values([\"x\",\"y\"], inplace=True)"
   ]
  },
  {
   "cell_type": "code",
   "execution_count": 26,
   "id": "6df1367f-ba89-49c4-a20a-1af74b17b3e4",
   "metadata": {},
   "outputs": [],
   "source": [
    "df3.to_csv(\"final_pixels.csv\")"
   ]
  },
  {
   "cell_type": "markdown",
   "id": "c0ad7ff0-d4e9-4346-972c-23e25444a2cd",
   "metadata": {
    "tags": []
   },
   "source": [
    "# On génère l'image"
   ]
  },
  {
   "cell_type": "code",
   "execution_count": 19,
   "id": "ac6f6814-0998-4e3a-a278-85083870c70c",
   "metadata": {},
   "outputs": [],
   "source": [
    "df4 = pd.read_csv(\"csv/final_pixels.csv\")"
   ]
  },
  {
   "cell_type": "code",
   "execution_count": 20,
   "id": "c3f89a19-1e94-40f4-9c27-9a8f0ed07698",
   "metadata": {},
   "outputs": [],
   "source": [
    "df4.set_index(\"Unnamed: 0\", inplace=True)"
   ]
  },
  {
   "cell_type": "code",
   "execution_count": 21,
   "id": "01813845-e3dc-438e-b8ac-0db716d38c2f",
   "metadata": {},
   "outputs": [],
   "source": [
    "import numpy as np\n",
    "from PIL import Image\n",
    "from PIL import ImageColor"
   ]
  },
  {
   "cell_type": "code",
   "execution_count": 22,
   "id": "3d449c59-3a37-49db-8d60-2265f29d5468",
   "metadata": {},
   "outputs": [
    {
     "ename": "KeyboardInterrupt",
     "evalue": "",
     "output_type": "error",
     "traceback": [
      "\u001b[1;31m---------------------------------------------------------------------------\u001b[0m",
      "\u001b[1;31mKeyboardInterrupt\u001b[0m                         Traceback (most recent call last)",
      "Cell \u001b[1;32mIn[22], line 1\u001b[0m\n\u001b[1;32m----> 1\u001b[0m df4\u001b[38;5;241m.\u001b[39mpixel_color \u001b[38;5;241m=\u001b[39m \u001b[43mdf4\u001b[49m\u001b[38;5;241;43m.\u001b[39;49m\u001b[43mpixel_color\u001b[49m\u001b[38;5;241;43m.\u001b[39;49m\u001b[43mapply\u001b[49m\u001b[43m(\u001b[49m\u001b[38;5;28;43;01mlambda\u001b[39;49;00m\u001b[43m \u001b[49m\u001b[43mr\u001b[49m\u001b[43m:\u001b[49m\u001b[43m \u001b[49m\u001b[38;5;28;43mlist\u001b[39;49m\u001b[43m(\u001b[49m\u001b[43mImageColor\u001b[49m\u001b[38;5;241;43m.\u001b[39;49m\u001b[43mgetcolor\u001b[49m\u001b[43m(\u001b[49m\u001b[43mr\u001b[49m\u001b[43m,\u001b[49m\u001b[43m \u001b[49m\u001b[38;5;124;43m\"\u001b[39;49m\u001b[38;5;124;43mRGB\u001b[39;49m\u001b[38;5;124;43m\"\u001b[39;49m\u001b[43m)\u001b[49m\u001b[43m)\u001b[49m\u001b[43m)\u001b[49m\n",
      "File \u001b[1;32mc:\\Users\\Maxime\\AppData\\Local\\Programs\\Python\\Python39\\lib\\site-packages\\pandas\\core\\series.py:4626\u001b[0m, in \u001b[0;36mSeries.apply\u001b[1;34m(self, func, convert_dtype, args, **kwargs)\u001b[0m\n\u001b[0;32m   4516\u001b[0m \u001b[38;5;28;01mdef\u001b[39;00m \u001b[38;5;21mapply\u001b[39m(\n\u001b[0;32m   4517\u001b[0m     \u001b[38;5;28mself\u001b[39m,\n\u001b[0;32m   4518\u001b[0m     func: AggFuncType,\n\u001b[1;32m   (...)\u001b[0m\n\u001b[0;32m   4521\u001b[0m     \u001b[38;5;241m*\u001b[39m\u001b[38;5;241m*\u001b[39mkwargs,\n\u001b[0;32m   4522\u001b[0m ) \u001b[38;5;241m-\u001b[39m\u001b[38;5;241m>\u001b[39m DataFrame \u001b[38;5;241m|\u001b[39m Series:\n\u001b[0;32m   4523\u001b[0m \u001b[38;5;250m    \u001b[39m\u001b[38;5;124;03m\"\"\"\u001b[39;00m\n\u001b[0;32m   4524\u001b[0m \u001b[38;5;124;03m    Invoke function on values of Series.\u001b[39;00m\n\u001b[0;32m   4525\u001b[0m \n\u001b[1;32m   (...)\u001b[0m\n\u001b[0;32m   4624\u001b[0m \u001b[38;5;124;03m    dtype: float64\u001b[39;00m\n\u001b[0;32m   4625\u001b[0m \u001b[38;5;124;03m    \"\"\"\u001b[39;00m\n\u001b[1;32m-> 4626\u001b[0m     \u001b[38;5;28;01mreturn\u001b[39;00m \u001b[43mSeriesApply\u001b[49m\u001b[43m(\u001b[49m\u001b[38;5;28;43mself\u001b[39;49m\u001b[43m,\u001b[49m\u001b[43m \u001b[49m\u001b[43mfunc\u001b[49m\u001b[43m,\u001b[49m\u001b[43m \u001b[49m\u001b[43mconvert_dtype\u001b[49m\u001b[43m,\u001b[49m\u001b[43m \u001b[49m\u001b[43margs\u001b[49m\u001b[43m,\u001b[49m\u001b[43m \u001b[49m\u001b[43mkwargs\u001b[49m\u001b[43m)\u001b[49m\u001b[38;5;241;43m.\u001b[39;49m\u001b[43mapply\u001b[49m\u001b[43m(\u001b[49m\u001b[43m)\u001b[49m\n",
      "File \u001b[1;32mc:\\Users\\Maxime\\AppData\\Local\\Programs\\Python\\Python39\\lib\\site-packages\\pandas\\core\\apply.py:1025\u001b[0m, in \u001b[0;36mSeriesApply.apply\u001b[1;34m(self)\u001b[0m\n\u001b[0;32m   1022\u001b[0m     \u001b[38;5;28;01mreturn\u001b[39;00m \u001b[38;5;28mself\u001b[39m\u001b[38;5;241m.\u001b[39mapply_str()\n\u001b[0;32m   1024\u001b[0m \u001b[38;5;66;03m# self.f is Callable\u001b[39;00m\n\u001b[1;32m-> 1025\u001b[0m \u001b[38;5;28;01mreturn\u001b[39;00m \u001b[38;5;28;43mself\u001b[39;49m\u001b[38;5;241;43m.\u001b[39;49m\u001b[43mapply_standard\u001b[49m\u001b[43m(\u001b[49m\u001b[43m)\u001b[49m\n",
      "File \u001b[1;32mc:\\Users\\Maxime\\AppData\\Local\\Programs\\Python\\Python39\\lib\\site-packages\\pandas\\core\\apply.py:1076\u001b[0m, in \u001b[0;36mSeriesApply.apply_standard\u001b[1;34m(self)\u001b[0m\n\u001b[0;32m   1074\u001b[0m     \u001b[38;5;28;01melse\u001b[39;00m:\n\u001b[0;32m   1075\u001b[0m         values \u001b[38;5;241m=\u001b[39m obj\u001b[38;5;241m.\u001b[39mastype(\u001b[38;5;28mobject\u001b[39m)\u001b[38;5;241m.\u001b[39m_values\n\u001b[1;32m-> 1076\u001b[0m         mapped \u001b[38;5;241m=\u001b[39m \u001b[43mlib\u001b[49m\u001b[38;5;241;43m.\u001b[39;49m\u001b[43mmap_infer\u001b[49m\u001b[43m(\u001b[49m\n\u001b[0;32m   1077\u001b[0m \u001b[43m            \u001b[49m\u001b[43mvalues\u001b[49m\u001b[43m,\u001b[49m\n\u001b[0;32m   1078\u001b[0m \u001b[43m            \u001b[49m\u001b[43mf\u001b[49m\u001b[43m,\u001b[49m\n\u001b[0;32m   1079\u001b[0m \u001b[43m            \u001b[49m\u001b[43mconvert\u001b[49m\u001b[38;5;241;43m=\u001b[39;49m\u001b[38;5;28;43mself\u001b[39;49m\u001b[38;5;241;43m.\u001b[39;49m\u001b[43mconvert_dtype\u001b[49m\u001b[43m,\u001b[49m\n\u001b[0;32m   1080\u001b[0m \u001b[43m        \u001b[49m\u001b[43m)\u001b[49m\n\u001b[0;32m   1082\u001b[0m \u001b[38;5;28;01mif\u001b[39;00m \u001b[38;5;28mlen\u001b[39m(mapped) \u001b[38;5;129;01mand\u001b[39;00m \u001b[38;5;28misinstance\u001b[39m(mapped[\u001b[38;5;241m0\u001b[39m], ABCSeries):\n\u001b[0;32m   1083\u001b[0m     \u001b[38;5;66;03m# GH#43986 Need to do list(mapped) in order to get treated as nested\u001b[39;00m\n\u001b[0;32m   1084\u001b[0m     \u001b[38;5;66;03m#  See also GH#25959 regarding EA support\u001b[39;00m\n\u001b[0;32m   1085\u001b[0m     \u001b[38;5;28;01mreturn\u001b[39;00m obj\u001b[38;5;241m.\u001b[39m_constructor_expanddim(\u001b[38;5;28mlist\u001b[39m(mapped), index\u001b[38;5;241m=\u001b[39mobj\u001b[38;5;241m.\u001b[39mindex)\n",
      "File \u001b[1;32mc:\\Users\\Maxime\\AppData\\Local\\Programs\\Python\\Python39\\lib\\site-packages\\pandas\\_libs\\lib.pyx:2834\u001b[0m, in \u001b[0;36mpandas._libs.lib.map_infer\u001b[1;34m()\u001b[0m\n",
      "Cell \u001b[1;32mIn[22], line 1\u001b[0m, in \u001b[0;36m<lambda>\u001b[1;34m(r)\u001b[0m\n\u001b[1;32m----> 1\u001b[0m df4\u001b[38;5;241m.\u001b[39mpixel_color \u001b[38;5;241m=\u001b[39m df4\u001b[38;5;241m.\u001b[39mpixel_color\u001b[38;5;241m.\u001b[39mapply(\u001b[38;5;28;01mlambda\u001b[39;00m r: \u001b[38;5;28mlist\u001b[39m(\u001b[43mImageColor\u001b[49m\u001b[38;5;241;43m.\u001b[39;49m\u001b[43mgetcolor\u001b[49m\u001b[43m(\u001b[49m\u001b[43mr\u001b[49m\u001b[43m,\u001b[49m\u001b[43m \u001b[49m\u001b[38;5;124;43m\"\u001b[39;49m\u001b[38;5;124;43mRGB\u001b[39;49m\u001b[38;5;124;43m\"\u001b[39;49m\u001b[43m)\u001b[49m))\n",
      "File \u001b[1;32mc:\\Users\\Maxime\\AppData\\Local\\Programs\\Python\\Python39\\lib\\site-packages\\PIL\\ImageColor.py:136\u001b[0m, in \u001b[0;36mgetcolor\u001b[1;34m(color, mode)\u001b[0m\n\u001b[0;32m    124\u001b[0m \u001b[38;5;250m\u001b[39m\u001b[38;5;124;03m\"\"\"\u001b[39;00m\n\u001b[0;32m    125\u001b[0m \u001b[38;5;124;03mSame as :py:func:`~PIL.ImageColor.getrgb`, but converts the RGB value to a\u001b[39;00m\n\u001b[0;32m    126\u001b[0m \u001b[38;5;124;03mgreyscale value if ``mode`` is not color or a palette image. If the string\u001b[39;00m\n\u001b[1;32m   (...)\u001b[0m\n\u001b[0;32m    133\u001b[0m \u001b[38;5;124;03m:return: ``(graylevel[, alpha]) or (red, green, blue[, alpha])``\u001b[39;00m\n\u001b[0;32m    134\u001b[0m \u001b[38;5;124;03m\"\"\"\u001b[39;00m\n\u001b[0;32m    135\u001b[0m \u001b[38;5;66;03m# same as getrgb, but converts the result to the given mode\u001b[39;00m\n\u001b[1;32m--> 136\u001b[0m color, alpha \u001b[38;5;241m=\u001b[39m \u001b[43mgetrgb\u001b[49m\u001b[43m(\u001b[49m\u001b[43mcolor\u001b[49m\u001b[43m)\u001b[49m, \u001b[38;5;241m255\u001b[39m\n\u001b[0;32m    137\u001b[0m \u001b[38;5;28;01mif\u001b[39;00m \u001b[38;5;28mlen\u001b[39m(color) \u001b[38;5;241m==\u001b[39m \u001b[38;5;241m4\u001b[39m:\n\u001b[0;32m    138\u001b[0m     color, alpha \u001b[38;5;241m=\u001b[39m color[:\u001b[38;5;241m3\u001b[39m], color[\u001b[38;5;241m3\u001b[39m]\n",
      "File \u001b[1;32mc:\\Users\\Maxime\\AppData\\Local\\Programs\\Python\\Python39\\lib\\site-packages\\PIL\\ImageColor.py:35\u001b[0m, in \u001b[0;36mgetrgb\u001b[1;34m(color)\u001b[0m\n\u001b[0;32m     25\u001b[0m \u001b[38;5;28;01mdef\u001b[39;00m \u001b[38;5;21mgetrgb\u001b[39m(color):\n\u001b[0;32m     26\u001b[0m \u001b[38;5;250m    \u001b[39m\u001b[38;5;124;03m\"\"\"\u001b[39;00m\n\u001b[0;32m     27\u001b[0m \u001b[38;5;124;03m     Convert a color string to an RGB or RGBA tuple. If the string cannot be\u001b[39;00m\n\u001b[0;32m     28\u001b[0m \u001b[38;5;124;03m     parsed, this function raises a :py:exc:`ValueError` exception.\u001b[39;00m\n\u001b[1;32m   (...)\u001b[0m\n\u001b[0;32m     33\u001b[0m \u001b[38;5;124;03m    :return: ``(red, green, blue[, alpha])``\u001b[39;00m\n\u001b[0;32m     34\u001b[0m \u001b[38;5;124;03m    \"\"\"\u001b[39;00m\n\u001b[1;32m---> 35\u001b[0m     \u001b[38;5;28;01mif\u001b[39;00m \u001b[38;5;28;43mlen\u001b[39;49m(color) \u001b[38;5;241m>\u001b[39m \u001b[38;5;241m100\u001b[39m:\n\u001b[0;32m     36\u001b[0m         msg \u001b[38;5;241m=\u001b[39m \u001b[38;5;124m\"\u001b[39m\u001b[38;5;124mcolor specifier is too long\u001b[39m\u001b[38;5;124m\"\u001b[39m\n\u001b[0;32m     37\u001b[0m         \u001b[38;5;28;01mraise\u001b[39;00m \u001b[38;5;167;01mValueError\u001b[39;00m(msg)\n",
      "\u001b[1;31mKeyboardInterrupt\u001b[0m: "
     ]
    }
   ],
   "source": [
    "df4.pixel_color = df4.pixel_color.apply(lambda r: list(ImageColor.getcolor(r, \"RGB\")))"
   ]
  },
  {
   "cell_type": "code",
   "execution_count": null,
   "id": "22a547a9-2056-47d8-a88e-67c9a59d998f",
   "metadata": {},
   "outputs": [],
   "source": [
    "array_image = df4.groupby(\"y\").pixel_color.apply(list).tolist()"
   ]
  },
  {
   "cell_type": "code",
   "execution_count": null,
   "id": "284c312a-b49c-4d42-9da3-4e48e8c2bac8",
   "metadata": {},
   "outputs": [],
   "source": [
    "numpy_array = np.array(array_image, dtype=np.uint8)"
   ]
  },
  {
   "cell_type": "code",
   "execution_count": null,
   "id": "8fe7d4dc-3ee3-4906-8845-80f53ed876dd",
   "metadata": {},
   "outputs": [],
   "source": [
    "image_final = Image.fromarray(numpy_array)"
   ]
  },
  {
   "cell_type": "code",
   "execution_count": null,
   "id": "ae33bd04-3b7a-4a05-98c8-531bd58f9094",
   "metadata": {},
   "outputs": [],
   "source": [
    "cm = 1\n",
    "image_final.save(f\"export/final_x{cm:02}.jpg\")"
   ]
  },
  {
   "cell_type": "markdown",
   "id": "e72371a9-218e-4b2a-9337-52076bae16cd",
   "metadata": {
    "tags": []
   },
   "source": [
    "## On tente d'agrandir l'image"
   ]
  },
  {
   "cell_type": "code",
   "execution_count": 17,
   "id": "3e9b74ba-1343-45a8-827a-338c183e6aee",
   "metadata": {},
   "outputs": [],
   "source": [
    "def multiply_array(list, int):\n",
    "    final = []\n",
    "    for element in list:\n",
    "        for loop in range(int):\n",
    "            final.append(element)\n",
    "    return final"
   ]
  },
  {
   "cell_type": "code",
   "execution_count": 18,
   "id": "31b6bba8-efc6-4d68-9438-a57128e04ee6",
   "metadata": {},
   "outputs": [
    {
     "ename": "NameError",
     "evalue": "name 'array_image' is not defined",
     "output_type": "error",
     "traceback": [
      "\u001b[1;31m---------------------------------------------------------------------------\u001b[0m",
      "\u001b[1;31mNameError\u001b[0m                                 Traceback (most recent call last)",
      "File \u001b[1;32m<timed exec>:3\u001b[0m\n",
      "\u001b[1;31mNameError\u001b[0m: name 'array_image' is not defined"
     ]
    }
   ],
   "source": [
    "%%time\n",
    "cm = 32\n",
    "final_temp = []\n",
    "for line in array_image:\n",
    "    line_cm = multiply_array(line, cm)\n",
    "    final_temp.append(line_cm)\n",
    "array_image_cm = multiply_array(final_temp, cm)"
   ]
  },
  {
   "cell_type": "code",
   "execution_count": null,
   "id": "fb57bc43-3530-4cbb-a76e-413ee32e2f69",
   "metadata": {},
   "outputs": [],
   "source": [
    "%%time\n",
    "numpy_array = np.array(array_image_cm, dtype=np.uint8)"
   ]
  },
  {
   "cell_type": "code",
   "execution_count": 14,
   "id": "52007e95-d72d-443d-838e-769224c0131d",
   "metadata": {},
   "outputs": [
    {
     "name": "stdout",
     "output_type": "stream",
     "text": [
      "CPU times: total: 1.52 s\n",
      "Wall time: 1.51 s\n"
     ]
    }
   ],
   "source": [
    "%%time\n",
    "image_final = Image.fromarray(numpy_array)"
   ]
  },
  {
   "cell_type": "code",
   "execution_count": 15,
   "id": "e9c1d1be-39a2-43e6-ba28-dc952a1a85d5",
   "metadata": {},
   "outputs": [
    {
     "name": "stdout",
     "output_type": "stream",
     "text": [
      "CPU times: total: 2.75 s\n",
      "Wall time: 2.76 s\n"
     ]
    }
   ],
   "source": [
    "%%time\n",
    "image_final.save(f\"export/final_x{cm:02}.jpg\")"
   ]
  }
 ],
 "metadata": {
  "kernelspec": {
   "display_name": "Python 3 (ipykernel)",
   "language": "python",
   "name": "python3"
  },
  "language_info": {
   "codemirror_mode": {
    "name": "ipython",
    "version": 3
   },
   "file_extension": ".py",
   "mimetype": "text/x-python",
   "name": "python",
   "nbconvert_exporter": "python",
   "pygments_lexer": "ipython3",
   "version": "3.9.13"
  }
 },
 "nbformat": 4,
 "nbformat_minor": 5
}
